{
 "cells": [
  {
   "cell_type": "markdown",
   "metadata": {},
   "source": [
    "# Linear solvers in the TT format\n",
    "\n",
    "This tutorial addresses solving multilinear systems $\\mathsf{Ax}=\\mathsf{b}$ in the TT format.\n",
    "\n",
    "Imports:"
   ]
  },
  {
   "cell_type": "code",
   "execution_count": null,
   "metadata": {},
   "outputs": [],
   "source": [
    "import torch as tn\n",
    "import datetime\n",
    "try: \n",
    "    import torchtt as tntt\n",
    "except:\n",
    "    print('Installing torchTT...')\n",
    "    %pip install git+https://github.com/ion-g-ion/torchTT\n",
    "    import torchtt as tntt"
   ]
  },
  {
   "cell_type": "markdown",
   "metadata": {},
   "source": [
    "### Small example\n",
    "\n",
    "A random tensor operator $\\mathsf{A}$ is created in the TT format. We create a random right-hand side $\\mathsf{b} = \\mathsf{Ax}$, where $\\mathsf{x}$ is a random tensor in the TT format. This way the solution of $\\mathsf{Ax}=\\mathsf{b}$ is known and we can compare it as a reference.\n",
    "This works only for small random tensors."
   ]
  },
  {
   "cell_type": "code",
   "execution_count": null,
   "metadata": {},
   "outputs": [],
   "source": [
    "A = tntt.random([(4, 4),(5, 5),(6, 6)],[1,2,3,1]) \n",
    "A = A @ A.t() + 10 * tntt.eye([4, 5, 6])\n",
    "x = tntt.random([4, 5, 6],[1, 2, 3, 1])\n",
    "b = A @ x"
   ]
  },
  {
   "cell_type": "markdown",
   "metadata": {},
   "source": [
    "Solve the multilinear system $\\mathsf{Ax}=\\mathsf{b}$ using the method torchtt.solvers.amen_solve().\n"
   ]
  },
  {
   "cell_type": "code",
   "execution_count": null,
   "metadata": {},
   "outputs": [],
   "source": [
    "xs = tntt.solvers.amen_solve(A,b, x0 = b, eps = 1e-7)"
   ]
  },
  {
   "cell_type": "markdown",
   "metadata": {},
   "source": [
    "The relative residual norm and the relative error of the solution are reported:"
   ]
  },
  {
   "cell_type": "code",
   "execution_count": null,
   "metadata": {},
   "outputs": [],
   "source": [
    "print(xs)\n",
    "print('Relative residual error ',(A @ xs - b).norm() / b.norm())\n",
    "print('Relative error of the solution  ',(xs - x).norm() / x.norm())"
   ]
  },
  {
   "cell_type": "markdown",
   "metadata": {},
   "source": [
    "### Finite differences\n",
    "\n",
    "We now solve the problem $\\Delta u = 1$ in $[0,1]^d$ with $ u = 0 $ on the entire boundary using finite differences.\n",
    "First, set the size of the problem (n is the mode size and d is the number of dimensions):"
   ]
  },
  {
   "cell_type": "code",
   "execution_count": null,
   "metadata": {},
   "outputs": [],
   "source": [
    "dtype = tn.float64 \n",
    "n =  256\n",
    "d = 8"
   ]
  },
  {
   "cell_type": "markdown",
   "metadata": {},
   "source": [
    "Create the finite differences matrix corresponding to the problem. The operator is constructed directly in the TT format as it follows"
   ]
  },
  {
   "cell_type": "code",
   "execution_count": null,
   "metadata": {},
   "outputs": [],
   "source": [
    "L1d = -2 * tn.eye(n, dtype = dtype) + tn.diag(tn.ones(n-1,dtype = dtype),-1) + tn.diag(tn.ones(n - 1,dtype = dtype),1)\n",
    "L1d[0, 1] = 0\n",
    "L1d[-1,-2] = 0\n",
    "L1d /= (n - 1)\n",
    "L1d = tntt.TT(L1d, [(n,n)])\n",
    "\n",
    "L_tt = tntt.zeros([(n,n)] * d)\n",
    "for i in range(1, d - 1):\n",
    "    L_tt = L_tt + tntt.eye([n] * i) ** L1d ** tntt.eye([n] * (d - 1 - i))\n",
    "\n",
    "L_tt = L_tt + L1d ** tntt.eye([n] * (d - 1)) +  tntt.eye([n] * (d - 1)) ** L1d\n",
    "L_tt = L_tt.round(1e-14)"
   ]
  },
  {
   "cell_type": "markdown",
   "metadata": {},
   "source": [
    "The right hand site of the finite difference system is also computed in the TT format"
   ]
  },
  {
   "cell_type": "code",
   "execution_count": null,
   "metadata": {},
   "outputs": [],
   "source": [
    "b1d = tn.ones(n, dtype=dtype)\n",
    "b1d[0] = 0\n",
    "b1d[-1] = 0\n",
    "b1d = tntt.TT(b1d)\n",
    "b_tt = b1d\n",
    "for i in range(d-1):\n",
    "    b_tt = b_tt ** b1d"
   ]
  },
  {
   "cell_type": "markdown",
   "metadata": {},
   "source": [
    "Solve the system"
   ]
  },
  {
   "cell_type": "code",
   "execution_count": null,
   "metadata": {},
   "outputs": [],
   "source": [
    "time = datetime.datetime.now()\n",
    "x = tntt.solvers.amen_solve(L_tt, b_tt, x0 = b_tt, nswp=20, eps=1e-8, verbose=True)\n",
    "time = datetime.datetime.now() - time\n",
    "print('Relative residual: ',(L_tt @ x - b_tt).norm() / b_tt.norm())\n",
    "print('Solver time: ',time)"
   ]
  },
  {
   "cell_type": "markdown",
   "metadata": {},
   "source": [
    "Display the structure of the TT"
   ]
  },
  {
   "cell_type": "code",
   "execution_count": null,
   "metadata": {},
   "outputs": [],
   "source": [
    "print(x)"
   ]
  },
  {
   "cell_type": "markdown",
   "metadata": {},
   "source": [
    "Try one more time on the GPU (if available)."
   ]
  },
  {
   "cell_type": "code",
   "execution_count": null,
   "metadata": {},
   "outputs": [],
   "source": [
    "if tn.cuda.is_available():\n",
    "    cuda_dev = 'cuda:0'\n",
    "    time = datetime.datetime.now()\n",
    "    x = tntt.solvers.amen_solve(L_tt.to(cuda_dev), b_tt.to(cuda_dev) ,x0 = b_tt.to(cuda_dev), nswp = 20, eps = 1e-8, verbose = True, preconditioner=None)\n",
    "    time = datetime.datetime.now() - time\n",
    "    x = x.cpu()\n",
    "    print('Relative residual: ',(L_tt @ x-b_tt).norm()/b_tt.norm())\n",
    "    print('Solver time: ',time)\n",
    "else:\n",
    "    print('GPU not available...')"
   ]
  },
  {
   "cell_type": "markdown",
   "metadata": {},
   "source": [
    "The banded structure of the matrix can be considered"
   ]
  },
  {
   "cell_type": "markdown",
   "metadata": {},
   "source": [
    "Not banded solver without preconditioning"
   ]
  },
  {
   "cell_type": "code",
   "execution_count": null,
   "metadata": {},
   "outputs": [],
   "source": [
    "time = datetime.datetime.now()\n",
    "x = tntt.solvers.amen_solve(L_tt, b_tt, x0=b_tt, nswp=20, eps=1e-8, verbose=False, preconditioner=None)\n",
    "time = datetime.datetime.now() - time\n",
    "print('Relative residual: ',(L_tt @ x - b_tt).norm() / b_tt.norm())\n",
    "print('Solver time: ', time)"
   ]
  },
  {
   "cell_type": "markdown",
   "metadata": {},
   "source": [
    "Banded solver without preconditioning"
   ]
  },
  {
   "cell_type": "code",
   "execution_count": null,
   "metadata": {},
   "outputs": [],
   "source": [
    "bands_L_tt = [1] * len(L_tt.cores)"
   ]
  },
  {
   "cell_type": "code",
   "execution_count": null,
   "metadata": {},
   "outputs": [],
   "source": [
    "time = datetime.datetime.now()\n",
    "x = tntt.solvers.amen_solve(L_tt, b_tt, x0=b_tt, nswp=20, eps=1e-8, verbose=False, bandsMatrices=bands_L_tt, preconditioner=None)\n",
    "time = datetime.datetime.now() - time\n",
    "print('Relative residual: ', (L_tt @ x - b_tt).norm() / b_tt.norm())\n",
    "print('Solver time: ', time)"
   ]
  },
  {
   "cell_type": "markdown",
   "metadata": {},
   "source": [
    "Not banded solver with central preconditioning"
   ]
  },
  {
   "cell_type": "code",
   "execution_count": null,
   "metadata": {},
   "outputs": [],
   "source": [
    "time = datetime.datetime.now()\n",
    "x = tntt.solvers.amen_solve(L_tt, b_tt, x0=b_tt, nswp=20, eps=1e-8, verbose=False, preconditioner='c')\n",
    "time = datetime.datetime.now() - time\n",
    "print('Relative residual: ',(L_tt @ x - b_tt).norm() / b_tt.norm())\n",
    "print('Solver time: ', time)"
   ]
  },
  {
   "cell_type": "markdown",
   "metadata": {},
   "source": [
    "Banded solver with central preconditioning"
   ]
  },
  {
   "cell_type": "code",
   "execution_count": null,
   "metadata": {},
   "outputs": [],
   "source": [
    "time = datetime.datetime.now()\n",
    "x = tntt.solvers.amen_solve(L_tt, b_tt, x0=b_tt, nswp=20, eps=1e-8, verbose=False, bandsMatrices=bands_L_tt, preconditioner='c')\n",
    "time = datetime.datetime.now() - time\n",
    "print('Relative residual: ', (L_tt @ x - b_tt).norm() / b_tt.norm())\n",
    "print('Solver time: ', time)"
   ]
  },
  {
   "cell_type": "markdown",
   "metadata": {},
   "source": [
    "### Sum of matrices"
   ]
  },
  {
   "cell_type": "markdown",
   "metadata": {},
   "source": [
    "Solving system $(A + B + C + D + I)x = b$"
   ]
  },
  {
   "cell_type": "code",
   "execution_count": null,
   "metadata": {},
   "outputs": [],
   "source": [
    "N = [32, 16, 16]\n",
    "MN = [(32, 32), (16, 16), (16, 16)]\n",
    "R = [1, 5, 5, 1]"
   ]
  },
  {
   "cell_type": "code",
   "execution_count": null,
   "metadata": {},
   "outputs": [],
   "source": [
    "A = tntt.random(MN, R, dtype=tn.float64)\n",
    "A = A @ A.t() + 100 * tntt.eye(N)\n",
    "B = tntt.random(MN, R, dtype=tn.float64)\n",
    "B = B @ B.t() + 100 * tntt.eye(N)\n",
    "C = tntt.random(MN, R, dtype=tn.float64)\n",
    "C = C @ C.t() + 100 * tntt.eye(N)\n",
    "D = tntt.random(MN, R, dtype=tn.float64)\n",
    "D = D @ D.t() + 100 * tntt.eye(N)\n",
    "I = 100 * tntt.eye(N)\n",
    "b = tntt.random(N, R)"
   ]
  },
  {
   "cell_type": "markdown",
   "metadata": {},
   "source": [
    "Solving for full matrix"
   ]
  },
  {
   "cell_type": "code",
   "execution_count": null,
   "metadata": {},
   "outputs": [],
   "source": [
    "time = datetime.datetime.now()\n",
    "Mat = (A + B + C + D).round(1e-8)\n",
    "x = tntt.solvers.amen_solve(Mat, b, eps=1e-8, verbose=False, local_iterations=40, resets=2)\n",
    "time = datetime.datetime.now() - time\n",
    "print('Relative residual: ',(Mat @ x - b).norm() / b.norm())\n",
    "print('Solver time: ',time)"
   ]
  },
  {
   "cell_type": "markdown",
   "metadata": {},
   "source": [
    "Solving for summands"
   ]
  },
  {
   "cell_type": "code",
   "execution_count": null,
   "metadata": {},
   "outputs": [],
   "source": [
    "time = datetime.datetime.now()\n",
    "x = tntt.solvers.amen_solve([A, B, C, D], b, eps=1e-8, verbose=False, local_iterations=40, resets=2)\n",
    "time = datetime.datetime.now() - time\n",
    "print('Relative residual: ',(Mat @ x - b).norm() / b.norm())\n",
    "print('Solver time: ',time)"
   ]
  },
  {
   "cell_type": "markdown",
   "metadata": {},
   "source": [
    "Solving for full matrix with central preconditioner"
   ]
  },
  {
   "cell_type": "code",
   "execution_count": null,
   "metadata": {},
   "outputs": [],
   "source": [
    "time = datetime.datetime.now()\n",
    "Mat = (A + B + C + D).round(1e-8)\n",
    "x = tntt.solvers.amen_solve(Mat, b, eps=1e-8, verbose=False, local_iterations=40, resets=2, preconditioner='c')\n",
    "time = datetime.datetime.now() - time\n",
    "print('Relative residual: ',(Mat @ x - b).norm() / b.norm())\n",
    "print('Solver time: ',time)"
   ]
  },
  {
   "cell_type": "markdown",
   "metadata": {},
   "source": [
    "Solving for summands with central preconditioner"
   ]
  },
  {
   "cell_type": "code",
   "execution_count": null,
   "metadata": {},
   "outputs": [],
   "source": [
    "time = datetime.datetime.now()\n",
    "x = tntt.solvers.amen_solve([A, B, C, D], b, eps=1e-8, verbose=False, local_iterations=40, resets=2, preconditioner='c')\n",
    "time = datetime.datetime.now() - time\n",
    "print('Relative residual: ',(Mat @ x - b).norm() / b.norm())\n",
    "print('Solver time: ', time)"
   ]
  },
  {
   "cell_type": "markdown",
   "metadata": {},
   "source": [
    "Solving for full matrix with right preconditioner"
   ]
  },
  {
   "cell_type": "code",
   "execution_count": null,
   "metadata": {},
   "outputs": [],
   "source": [
    "time = datetime.datetime.now()\n",
    "Mat = (A + B + C + D).round(1e-8)\n",
    "x = tntt.solvers.amen_solve(Mat, b, eps=1e-8, verbose=False, local_iterations=40, resets=2, preconditioner='r')\n",
    "time = datetime.datetime.now() - time\n",
    "print('Relative residual: ',(Mat @ x - b).norm() / b.norm())\n",
    "print('Solver time: ',time)"
   ]
  },
  {
   "cell_type": "markdown",
   "metadata": {},
   "source": [
    "Solving for summands with right preconditioner"
   ]
  },
  {
   "cell_type": "code",
   "execution_count": null,
   "metadata": {},
   "outputs": [],
   "source": [
    "time = datetime.datetime.now()\n",
    "x = tntt.solvers.amen_solve([A, B, C, D], b, eps=1e-8, verbose=False, local_iterations=40, resets=2, preconditioner='r')\n",
    "time = datetime.datetime.now() - time\n",
    "print('Relative residual: ',(Mat @ x - b).norm() / b.norm())\n",
    "print('Solver time: ',time)"
   ]
  },
  {
   "cell_type": "markdown",
   "metadata": {},
   "source": [
    "Banded structure can be taken into account"
   ]
  },
  {
   "cell_type": "code",
   "execution_count": null,
   "metadata": {},
   "outputs": [],
   "source": [
    "time = datetime.datetime.now()\n",
    "x = tntt.solvers.amen_solve([A, B, C, D], b, eps=1e-8, verbose=False, local_iterations=40, resets=2, preconditioner='c', bandsMatrices=[[31, 15, 15], [-1, -1, -1], [-1, -1, -1], [-1, -1, -1]])\n",
    "time = datetime.datetime.now() - time\n",
    "print('Relative residual: ',(Mat @ x - b).norm() / b.norm())\n",
    "print('Solver time: ', time)"
   ]
  },
  {
   "cell_type": "markdown",
   "metadata": {},
   "source": [
    "### Sum of matrix products"
   ]
  },
  {
   "cell_type": "markdown",
   "metadata": {},
   "source": [
    "Solving system $(AA^T + BB^T + CC^T + DD^T + I )x = b$"
   ]
  },
  {
   "cell_type": "code",
   "execution_count": null,
   "metadata": {},
   "outputs": [],
   "source": [
    "N = [32, 32, 16]\n",
    "MN = [(32, 32), (32, 32), (16, 16)]\n",
    "R = [1, 5, 5, 1]"
   ]
  },
  {
   "cell_type": "code",
   "execution_count": null,
   "metadata": {},
   "outputs": [],
   "source": [
    "A = tntt.random(MN, R, dtype=tn.float64)\n",
    "B = tntt.random(MN, R, dtype=tn.float64)\n",
    "C = tntt.random(MN, R, dtype=tn.float64)\n",
    "D = tntt.random(MN, R, dtype=tn.float64)\n",
    "I = 100 * tntt.eye(N)\n",
    "b = tntt.random(N, R)"
   ]
  },
  {
   "cell_type": "markdown",
   "metadata": {},
   "source": [
    "Solving for full matrix"
   ]
  },
  {
   "cell_type": "code",
   "execution_count": null,
   "metadata": {},
   "outputs": [],
   "source": [
    "time = datetime.datetime.now()\n",
    "Mat = (A @ A.t() + B @ B.t() + C @ C.t() + D @ D.t() + I).round(1e-8)\n",
    "x = tntt.solvers.amen_solve([(Mat,)], b, eps=1e-8, verbose=False, local_iterations=100, resets=2)\n",
    "time = datetime.datetime.now() - time\n",
    "print('Relative residual: ',(Mat @ x - b).norm() / b.norm())\n",
    "print('Solver time: ',time)"
   ]
  },
  {
   "cell_type": "markdown",
   "metadata": {},
   "source": [
    "Solving for products"
   ]
  },
  {
   "cell_type": "code",
   "execution_count": null,
   "metadata": {},
   "outputs": [],
   "source": [
    "time = datetime.datetime.now()\n",
    "x = tntt.solvers.amen_solve([(A, A.t(),), (B, B.t()), (C, C.t()), (D, D.t()), (I,)], b, eps=1e-8, verbose=False, local_iterations=100, resets=2)\n",
    "time = datetime.datetime.now() - time\n",
    "print('Relative residual: ',(Mat @ x - b).norm() / b.norm())\n",
    "print('Solver time: ',time)"
   ]
  },
  {
   "cell_type": "markdown",
   "metadata": {},
   "source": [
    "Solving for full matrix with central preconditioner"
   ]
  },
  {
   "cell_type": "code",
   "execution_count": null,
   "metadata": {},
   "outputs": [],
   "source": [
    "time = datetime.datetime.now()\n",
    "Mat = (A @ A.t() + B @ B.t() + C @ C.t() + D @ D.t() + I).round(1e-8)\n",
    "x = tntt.solvers.amen_solve([(Mat,)], b, eps=1e-8, verbose=False, local_iterations=100, resets=2, preconditioner='c')\n",
    "time = datetime.datetime.now() - time\n",
    "print('Relative residual: ',(Mat @ x - b).norm() / b.norm())\n",
    "print('Solver time: ',time)"
   ]
  },
  {
   "cell_type": "markdown",
   "metadata": {},
   "source": [
    "Solving for products with central preconditioner"
   ]
  },
  {
   "cell_type": "code",
   "execution_count": null,
   "metadata": {},
   "outputs": [],
   "source": [
    "time = datetime.datetime.now()\n",
    "x = tntt.solvers.amen_solve([(A, A.t(),), (B, B.t()), (C, C.t()), (D, D.t()), (I,)], b, eps=1e-8, verbose=False, local_iterations=100, resets=2, preconditioner='c')\n",
    "time = datetime.datetime.now() - time\n",
    "print('Relative residual: ',(Mat @ x - b).norm() / b.norm())\n",
    "print('Solver time: ',time)"
   ]
  },
  {
   "cell_type": "markdown",
   "metadata": {},
   "source": [
    "Solving for full matrix with right preconditioner"
   ]
  },
  {
   "cell_type": "code",
   "execution_count": null,
   "metadata": {},
   "outputs": [],
   "source": [
    "time = datetime.datetime.now()\n",
    "Mat = (A @ A.t() + B @ B.t() + C @ C.t() + D @ D.t() + I).round(1e-8)\n",
    "x = tntt.solvers.amen_solve([(Mat,)], b, eps=1e-8, verbose=False, local_iterations=100, resets=2, preconditioner='r')\n",
    "time = datetime.datetime.now() - time\n",
    "print('Relative residual: ',(Mat @ x - b).norm() / b.norm())\n",
    "print('Solver time: ',time)"
   ]
  },
  {
   "cell_type": "markdown",
   "metadata": {},
   "source": [
    "Solving for products with right preconditioner"
   ]
  },
  {
   "cell_type": "code",
   "execution_count": null,
   "metadata": {},
   "outputs": [],
   "source": [
    "time = datetime.datetime.now()\n",
    "x = tntt.solvers.amen_solve([(A, A.t(),), (B, B.t()), (C, C.t()), (D, D.t()), (I,)], b, eps=1e-8, verbose=False, local_iterations=100, resets=2, preconditioner='r')\n",
    "time = datetime.datetime.now() - time\n",
    "print('Relative residual: ',(Mat @ x - b).norm() / b.norm())\n",
    "print('Solver time: ',time)"
   ]
  }
 ],
 "metadata": {
  "kernelspec": {
   "display_name": "Python 3 (ipykernel)",
   "language": "python",
   "name": "python3"
  },
  "language_info": {
   "codemirror_mode": {
    "name": "ipython",
    "version": 3
   },
   "file_extension": ".py",
   "mimetype": "text/x-python",
   "name": "python",
   "nbconvert_exporter": "python",
   "pygments_lexer": "ipython3",
   "version": "3.11.4"
  },
  "vscode": {
   "interpreter": {
    "hash": "e7370f93d1d0cde622a1f8e1c04877d8463912d04d973331ad4851f04de6915a"
   }
  }
 },
 "nbformat": 4,
 "nbformat_minor": 4
}
